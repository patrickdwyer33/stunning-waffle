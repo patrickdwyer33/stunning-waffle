{
 "cells": [
  {
   "cell_type": "code",
   "execution_count": 1,
   "metadata": {},
   "outputs": [],
   "source": [
    "import jax\n",
    "from jax import numpy as jnp\n",
    "from functools import partial\n",
    "import copy"
   ]
  },
  {
   "cell_type": "code",
   "execution_count": 2,
   "metadata": {},
   "outputs": [
    {
     "name": "stderr",
     "output_type": "stream",
     "text": [
      "An NVIDIA GPU may be present on this machine, but a CUDA-enabled jaxlib is not installed. Falling back to cpu.\n"
     ]
    }
   ],
   "source": [
    "jax.default_device = jax.devices(\"cpu\")[0]"
   ]
  },
  {
   "cell_type": "code",
   "execution_count": 3,
   "metadata": {},
   "outputs": [],
   "source": [
    "jax.config.update(\"jax_enable_x64\", True)"
   ]
  },
  {
   "cell_type": "code",
   "execution_count": 4,
   "metadata": {},
   "outputs": [
    {
     "data": {
      "text/plain": [
       "dtype('float64')"
      ]
     },
     "execution_count": 4,
     "metadata": {},
     "output_type": "execute_result"
    }
   ],
   "source": [
    "X = jnp.array([[1,1,0,1,1],[1,1,1,0,0],[0,1,1,0,1],[1,0,0,1,0],[1,0,1,0,1]], dtype=jnp.float64)\n",
    "X.dtype"
   ]
  },
  {
   "cell_type": "code",
   "execution_count": 5,
   "metadata": {},
   "outputs": [],
   "source": [
    "seed = 33\n",
    "key = jax.random.PRNGKey(seed)"
   ]
  },
  {
   "cell_type": "code",
   "execution_count": 6,
   "metadata": {},
   "outputs": [],
   "source": [
    "def init_params(key, layer_sizes):\n",
    "    scale_weights = 1e-1\n",
    "    scale_biases = 1e-1\n",
    "    params = []\n",
    "    for n_in, n_out in zip(layer_sizes[:-1], layer_sizes[1:]):\n",
    "        key, subkey = jax.random.split(key)\n",
    "        params.append(dict(weights=scale_weights * jax.random.normal(subkey, (n_in, n_out)), \n",
    "                           biases=scale_biases * jax.random.normal(subkey, (n_out,)))\n",
    "                      )\n",
    "    return params"
   ]
  },
  {
   "cell_type": "code",
   "execution_count": 7,
   "metadata": {},
   "outputs": [],
   "source": [
    "size_based_on_input = X.shape[0] * X.shape[1]\n",
    "layer_sizes = [size_based_on_input, 128, 128, size_based_on_input]\n",
    "params = init_params(key, layer_sizes)"
   ]
  },
  {
   "cell_type": "code",
   "execution_count": 8,
   "metadata": {},
   "outputs": [
    {
     "data": {
      "text/plain": [
       "[{'biases': (128,), 'weights': (25, 128)},\n",
       " {'biases': (128,), 'weights': (128, 128)},\n",
       " {'biases': (25,), 'weights': (128, 25)}]"
      ]
     },
     "execution_count": 8,
     "metadata": {},
     "output_type": "execute_result"
    }
   ],
   "source": [
    "jax.tree_map(lambda x: x.shape, params)"
   ]
  },
  {
   "cell_type": "code",
   "execution_count": 9,
   "metadata": {},
   "outputs": [
    {
     "data": {
      "text/plain": [
       "Array([[0.23096333, 0.19699308, 0.26861276, 0.18406525, 0.11936557],\n",
       "       [0.17756499, 0.20624649, 0.18322543, 0.27584555, 0.15711755],\n",
       "       [0.22797607, 0.1946949 , 0.22207917, 0.1648719 , 0.19037796],\n",
       "       [0.18770376, 0.14453747, 0.19382609, 0.31161444, 0.16231824],\n",
       "       [0.16732629, 0.17238931, 0.20177378, 0.20262801, 0.2558826 ]],      dtype=float64)"
      ]
     },
     "execution_count": 9,
     "metadata": {},
     "output_type": "execute_result"
    }
   ],
   "source": [
    "@jax.jit\n",
    "def forward(params, x):\n",
    "    shape = x.shape\n",
    "    x = jnp.ravel(x)\n",
    "    *hidden, last = params\n",
    "    for layer in hidden:\n",
    "        x = jax.nn.relu(x @ layer['weights'] + layer['biases'])\n",
    "    raw_out = jnp.reshape(x @ last['weights'] + last['biases'], shape)\n",
    "    out = jax.nn.softmax(raw_out, axis=1)\n",
    "    return out\n",
    "forward(params, X)"
   ]
  },
  {
   "cell_type": "code",
   "execution_count": 10,
   "metadata": {},
   "outputs": [],
   "source": [
    "@jax.jit\n",
    "def group_loss(size, bad_edge_sum, group_val_sum):\n",
    "    max_size = size * (size - 1)\n",
    "    max_size = jnp.where(max_size < 1., 0.5, max_size)\n",
    "    return (bad_edge_sum / max_size) - (group_val_sum / size)"
   ]
  },
  {
   "cell_type": "code",
   "execution_count": 11,
   "metadata": {},
   "outputs": [
    {
     "data": {
      "text/plain": [
       "Array(18.66006858, dtype=float64)"
      ]
     },
     "execution_count": 11,
     "metadata": {},
     "output_type": "execute_result"
    }
   ],
   "source": [
    "@jax.jit\n",
    "def loss_fn(params, x):\n",
    "    pred = forward(params, x)\n",
    "    group_ids = jnp.argmax(pred, axis=1)\n",
    "    groups = {}\n",
    "    for x_idx, group_id in enumerate(group_ids):\n",
    "        if not groups.get(group_id, False): groups[group_id] = {\"size\": 0, \"x_idxes\": set(), \"bad_edge_sum\": 0, \"group_val_sum\": 0}\n",
    "        groups[group_id][\"size\"] += 1\n",
    "        groups[group_id][\"x_idxes\"].add(x_idx)\n",
    "        groups[group_id][\"group_val_sum\"] += pred[x_idx, group_id]\n",
    "    for _, group in groups.items():\n",
    "        for x_idx in group[\"x_idxes\"]:\n",
    "            for other_idx in range(x.shape[0]):\n",
    "                if other_idx == x_idx: continue\n",
    "                if other_idx not in group[\"x_idxes\"]: group[\"bad_edge_sum\"] += jnp.where(x[x_idx, other_idx] == 1, 1, 0)\n",
    "                if other_idx in group[\"x_idxes\"]: group[\"bad_edge_sum\"] += jnp.where(x[x_idx, other_idx] == 0, 1, 0)\n",
    "    group_infos = {group_id: {\"size\": group[\"size\"], \"bad_edge_sum\": group[\"bad_edge_sum\"], \"group_val_sum\": group[\"group_val_sum\"]} for group_id, group in groups.items()}\n",
    "    losses = list(map(lambda group: group_loss(group[\"size\"], group[\"bad_edge_sum\"], group[\"group_val_sum\"]), list(group_infos.values())))\n",
    "    loss = jnp.sum(jnp.asarray(losses))\n",
    "    return loss\n",
    "loss_fn(params, X)"
   ]
  },
  {
   "cell_type": "code",
   "execution_count": 19,
   "metadata": {},
   "outputs": [
    {
     "data": {
      "text/plain": [
       "{2: {'size': 1,\n",
       "  'x_idxes': {0},\n",
       "  'bad_edge_sum': Array(3, dtype=int64, weak_type=True),\n",
       "  'group_val_sum': Array(0.26861276, dtype=float64)},\n",
       " 3: {'size': 2,\n",
       "  'x_idxes': {1, 3},\n",
       "  'bad_edge_sum': Array(5, dtype=int64, weak_type=True),\n",
       "  'group_val_sum': Array(0.58745999, dtype=float64)},\n",
       " 0: {'size': 1,\n",
       "  'x_idxes': {2},\n",
       "  'bad_edge_sum': Array(2, dtype=int64, weak_type=True),\n",
       "  'group_val_sum': Array(0.22797607, dtype=float64)},\n",
       " 4: {'size': 1,\n",
       "  'x_idxes': {4},\n",
       "  'bad_edge_sum': Array(2, dtype=int64, weak_type=True),\n",
       "  'group_val_sum': Array(0.2558826, dtype=float64)}}"
      ]
     },
     "execution_count": 19,
     "metadata": {},
     "output_type": "execute_result"
    }
   ],
   "source": [
    "def get_groups(params, x):\n",
    "    pred = forward(params, x)\n",
    "    group_ids = jnp.argmax(pred, axis=1)\n",
    "    groups = {}\n",
    "    for x_idx, group_id in enumerate(group_ids):\n",
    "        try:\n",
    "            if not groups.get(group_id, False): groups[group_id] = {\"size\": 0, \"x_idxes\": set(), \"bad_edge_sum\": 0, \"group_val_sum\": 0}\n",
    "        except:\n",
    "            group_id = int(group_id)\n",
    "            if not groups.get(group_id, False): groups[group_id] = {\"size\": 0, \"x_idxes\": set(), \"bad_edge_sum\": 0, \"group_val_sum\": 0}\n",
    "        groups[group_id][\"size\"] += 1\n",
    "        groups[group_id][\"x_idxes\"].add(x_idx)\n",
    "        groups[group_id][\"group_val_sum\"] += pred[x_idx, group_id]\n",
    "    for _, group in groups.items():\n",
    "        for x_idx in group[\"x_idxes\"]:\n",
    "            for other_idx in range(x.shape[0]):\n",
    "                if other_idx == x_idx: continue\n",
    "                if other_idx not in group[\"x_idxes\"]: group[\"bad_edge_sum\"] += jnp.where(x[x_idx, other_idx] == 1, 1, 0)\n",
    "                if other_idx in group[\"x_idxes\"]: group[\"bad_edge_sum\"] += jnp.where(x[x_idx, other_idx] == 0, 1, 0)\n",
    "    group_infos = {group_id: {\"size\": group[\"size\"], \"bad_edge_sum\": group[\"bad_edge_sum\"], \"group_val_sum\": group[\"group_val_sum\"]} for group_id, group in groups.items()}\n",
    "    losses = list(map(lambda group: group_loss(group[\"size\"], group[\"bad_edge_sum\"], group[\"group_val_sum\"]), list(group_infos.values())))\n",
    "    loss = jnp.sum(jnp.asarray(losses))\n",
    "    return groups\n",
    "get_groups(params, X)"
   ]
  },
  {
   "cell_type": "code",
   "execution_count": null,
   "metadata": {},
   "outputs": [],
   "source": [
    "@jax.jit\n",
    "def update(learning_rate, params, grads):\n",
    "    return jax.tree_map(lambda p, g: p - learning_rate * g, params, grads)"
   ]
  },
  {
   "cell_type": "code",
   "execution_count": null,
   "metadata": {},
   "outputs": [
    {
     "name": "stdout",
     "output_type": "stream",
     "text": [
      "18.42001666342628\n",
      "15.0\n",
      "18.931123153843615\n"
     ]
    },
    {
     "data": {
      "text/plain": [
       "Array([[0.22673842, 0.18439643, 0.31268311, 0.16847783, 0.10770421],\n",
       "       [0.15803546, 0.19700905, 0.16948328, 0.3250424 , 0.15042981],\n",
       "       [0.27143823, 0.18074362, 0.21307662, 0.15608245, 0.17865908],\n",
       "       [0.17196635, 0.14150871, 0.17120961, 0.36893546, 0.14637988],\n",
       "       [0.15647498, 0.15951089, 0.19142187, 0.19070813, 0.30188413]],      dtype=float64)"
      ]
     },
     "execution_count": 63,
     "metadata": {},
     "output_type": "execute_result"
    }
   ],
   "source": [
    "print(loss_fn(params, X))\n",
    "print(loss_fn(jax.tree_map(lambda p: p + 2.1, params), X))\n",
    "print(loss_fn(jax.tree_map(lambda p: p - 2.1, params), X))"
   ]
  },
  {
   "cell_type": "code",
   "execution_count": null,
   "metadata": {},
   "outputs": [
    {
     "name": "stdout",
     "output_type": "stream",
     "text": [
      "18.65598807103841\n",
      "18.651880940815033\n",
      "18.647746866440947\n",
      "18.643585523811613\n",
      "18.639396584378918\n",
      "18.63517971508872\n",
      "18.630938196359796\n",
      "18.626685957276962\n",
      "18.622404972717963\n",
      "18.61813469327295\n",
      "18.61384347483918\n",
      "18.609522738472513\n",
      "18.60517212392422\n",
      "18.600791265994218\n",
      "18.596379794462926\n",
      "18.59193733402248\n",
      "18.587463504207328\n",
      "18.582957919324205\n",
      "18.578420188381543\n",
      "18.573849915018265\n",
      "18.569246697432114\n",
      "18.564613082064003\n",
      "18.559946777803667\n",
      "18.55524912793077\n",
      "18.550514187964886\n",
      "18.545744161579453\n",
      "18.540940345567815\n",
      "18.536100256969064\n",
      "18.53122258822695\n",
      "18.526308587457848\n",
      "18.521359366771538\n",
      "18.516369972626002\n",
      "18.511342398488914\n",
      "18.506278304647402\n",
      "18.501173732846546\n",
      "18.496028725343646\n",
      "18.49084442741207\n",
      "18.485620759862943\n",
      "18.48037907085864\n",
      "18.47510846327875\n",
      "18.469796083513433\n",
      "18.464441405256103\n",
      "18.459043895211742\n",
      "18.453603013024786\n",
      "18.44811911959222\n",
      "18.4425898821077\n",
      "18.437015564459116\n",
      "18.43139564118035\n",
      "18.425729535562994\n",
      "18.42001666342628\n"
     ]
    }
   ],
   "source": [
    "learning_rate = 1e-3\n",
    "n_iters = 50\n",
    "\n",
    "for _ in range(n_iters):\n",
    "    grads = jax.grad(loss_fn)(params, X)\n",
    "    params = update(learning_rate, params, grads)\n",
    "    print(loss_fn(params, X))"
   ]
  },
  {
   "cell_type": "code",
   "execution_count": null,
   "metadata": {},
   "outputs": [
    {
     "data": {
      "text/plain": [
       "Array(18.42001666, dtype=float64)"
      ]
     },
     "execution_count": 56,
     "metadata": {},
     "output_type": "execute_result"
    }
   ],
   "source": [
    "loss_fn(params, X)"
   ]
  },
  {
   "cell_type": "code",
   "execution_count": null,
   "metadata": {},
   "outputs": [],
   "source": []
  }
 ],
 "metadata": {
  "kernelspec": {
   "display_name": "venv",
   "language": "python",
   "name": "python3"
  },
  "language_info": {
   "codemirror_mode": {
    "name": "ipython",
    "version": 3
   },
   "file_extension": ".py",
   "mimetype": "text/x-python",
   "name": "python",
   "nbconvert_exporter": "python",
   "pygments_lexer": "ipython3",
   "version": "3.10.12"
  }
 },
 "nbformat": 4,
 "nbformat_minor": 2
}
